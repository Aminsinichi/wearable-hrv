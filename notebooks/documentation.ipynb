{
 "cells": [
  {
   "cell_type": "markdown",
   "id": "2cff9a48",
   "metadata": {},
   "source": [
    "# wearablehrv - documentation "
   ]
  },
  {
   "cell_type": "markdown",
   "id": "baefae62",
   "metadata": {},
   "source": [
    "### A Python package designed for data preparation, pre-processing, feature exctraction, comparison, visualization, and statistical individual/group analysis of heart rate and heart rate variability outcome variables recorded from wearable devices that transmit raw interbeat intervals and timestamps. "
   ]
  },
  {
   "cell_type": "markdown",
   "id": "8c77982f",
   "metadata": {},
   "source": [
    "Please also refer to:\n",
    "\n",
    "[![README.md](https://img.shields.io/badge/Read-README.md-blue)](https://github.com/Aminsinichi/wearable-hrv/blob/develop/README.md)\n"
   ]
  },
  {
   "cell_type": "markdown",
   "id": "433d8de2",
   "metadata": {},
   "source": [
    "**It is highly recommended that this pipeline is run via Jupyter Notebook, installed through [Anaconda Navigator](https://docs.anaconda.com/free/navigator/index.html).** "
   ]
  },
  {
   "cell_type": "markdown",
   "id": "43cd7f15",
   "metadata": {},
   "source": [
    "Please install and import the `wearablehrv` Python package, using the following commands:"
   ]
  },
  {
   "cell_type": "code",
   "execution_count": null,
   "id": "f3d721b3",
   "metadata": {},
   "outputs": [],
   "source": [
    "pip install wearablehrv\n",
    "import wearablehrv"
   ]
  },
  {
   "cell_type": "markdown",
   "id": "d98aa8d7",
   "metadata": {},
   "source": [
    "# Individual Pipeline"
   ]
  },
  {
   "cell_type": "markdown",
   "id": "7301bda8",
   "metadata": {},
   "source": [
    "## Introduction\n",
    "This pipeline is used for each and every participant. The pre-processed data then is saved as a .csv file for group analysis, using `Group Pipeline`. "
   ]
  },
  {
   "cell_type": "markdown",
   "id": "c1bdea58",
   "metadata": {},
   "source": [
    "### Shape of datasets"
   ]
  },
  {
   "cell_type": "markdown",
   "id": "93d9198f",
   "metadata": {},
   "source": [
    "Datasets should be saved as .csv file with this format:\n",
    "\n",
    "* [Participant ID]_[name of the device].csv\n",
    "* Example: P01_polar.csv\n",
    "\n",
    "This dataset for each device is a continuous recording that contains all conditions. It should follow this structure: the first column is time in UNIX format, in milliseconds; the second column contains inter-beat intervals. This can, for example, be recorded via the HRV Logger application developed by Marco Altini (https://www.hrv.tools/hrv-logger-faq.html). Of note, the code then converts the timestamps to hh:mm:ss format. "
   ]
  },
  {
   "cell_type": "markdown",
   "id": "b802d483",
   "metadata": {},
   "source": [
    "### Example of Data Collection and Sample Data"
   ]
  },
  {
   "cell_type": "markdown",
   "id": "3d373deb",
   "metadata": {},
   "source": [
    "Here, we offer a real example accompanied by data recorded during an experimental session. This is intended to help users better understand the structure of the datasets. In this particular experiment, we utilized the pipeline to validate several wearable devices.\n",
    "\n",
    "The names of the devices are as follows:\n",
    "\n",
    "- [Empatica EmbracePlus](https://www.empatica.com/en-int/embraceplus/?utm_campaign=ADW_AO_BRND_CNV&utm_campaign=ADW_AO_BRND_CNV&utm_medium=sitelink&utm_medium=Paid&utm_source=google&utm_source=Google)\n",
    "- HeartMath Inner Balance Bluetooth\n",
    "- [KYTO2935 Earlobe Device](https://kytofitness.com/products/bluetooth-mobile-heart-rate-monitor-with-ear-clip-kyto2935)\n",
    "- [Scosche Rhythm 24](https://www.scosche.com/rhythm24-waterproof-armband-heart-rate-monitor)\n",
    "- [VU-AMS](https://vu-ams.nl/) (served as the criterion device)\n",
    "\n",
    "All devices were worn simultaneously. The VU-AMS ECG device acted as the criterion device. Kyto, Rhythm, and HeartMath connected via Bluetooth to HRVLogger Android applications on three distinct devices. Empatica paired with its dedicated Android app, CareLab. The VU-AMS stored data on its internal memory. Ultimately, from every device, the detected inter-beat intervals and timestamps were extracted and saved as .csv files. Ultimately, the .csv files containing the continuous recordings from each device must have two columns:\n",
    "\n",
    "- **timestamp**: Millisecond precision in Unix format.\n",
    "- **rr**: Contains inter-beat intervals (sourced from either PPG or ECG devices).\n",
    "\n",
    "**Example:**\n",
    "\n",
    "| timestamp    | rr   |\n",
    "|--------------|------|\n",
    "| 1688126297704| 919  |\n",
    "| 1688126298681| 1207 |\n",
    "| 1688126298693| 695  |\n",
    "| 1688126304713| 1167 |\n",
    "| 1688126305707| 1047 |\n",
    "| 1688126307686| 951  |\n",
    "| 1688126309693| 1111 |\n",
    "\n",
    "Participants engaged in a series of conditions consecutively. These conditions included:\n",
    "\n",
    "- Sitting at rest for 5 minutes (\"sitting\")\n",
    "- A backward counting task from 1022, decreasing by 7 each time (\"arithmetic\") for 3 minutes\n",
    "- Recovery, sitting rested for an additional 3 minutes post-task (\"recovery\")\n",
    "- Posture manipulation, standing for 3 minutes (\"standing\")\n",
    "- Slow-paced breathing: 4 seconds inhale, 6 seconds exhale for 3 minutes (\"breathing\")\n",
    "- A cognitive task, emotional go-no-go, lasting around 10 minutes (\"neurotask\")\n",
    "- Slow-paced walking for 3 minutes (\"walking\")\n",
    "- Stationary biking for 3 minutes (\"biking\")\n",
    "\n",
    "The beginning and conclusion of these conditions can be outlined in a .csv file, named as [Participant_ID][events].csv.\n",
    "\n",
    "For an example dataset from one participant and its use in the pipeline, please download the subsequent files:\n",
    "\n",
    "- [test_empatica.csv](https://github.com/Aminsinichi/wearable-hrv/blob/develop/tests/test_individual/test_empatica.csv) - Continuous data comprising timestamps and inter-beat intervals for the Empatica device\n",
    "- [test_heartmath.csv](https://github.com/Aminsinichi/wearable-hrv/blob/develop/tests/test_individual/test_heartmath.csv) - Continuous data featuring timestamps and inter-beat intervals for the HeartMath device\n",
    "- [test_kyto.csv](https://github.com/Aminsinichi/wearable-hrv/blob/develop/tests/test_individual/test_kyto.csv) - Continuous data with timestamps and inter-beat intervals for the Kyto device\n",
    "- [test_rhythm.csv](https://github.com/Aminsinichi/wearable-hrv/blob/develop/tests/test_individual/test_rhythm.csv) - Continuous data that captures timestamps and inter-beat intervals for the Rhythm device\n",
    "- [test_vu.txt](https://github.com/Aminsinichi/wearable-hrv/blob/develop/tests/test_individual/test_vu.txt) - Continuous data detailing timestamps and inter-beat intervals for the VU-AMS device. Note that this is a text file, solely because this specific device saves data as .txt. However, a .csv format can also be employed, for instance, with an ECG device used as a criterion, like the Polar.\n",
    "- [test_event.csv](https://github.com/Aminsinichi/wearable-hrv/blob/develop/tests/test_individual/test_events.csv) - A .csv file recording the start and finish times for each condition. More details on this will be provided later in the pipeline."
   ]
  },
  {
   "cell_type": "markdown",
   "id": "96bb8748",
   "metadata": {},
   "source": [
    "The following section needs to be modified based on your datasets:\n",
    "\n",
    "* `pp`: the participant ID. Please ensure that this is exactly the same as the one used to save your files (in our example, this can be set to \"test\".)\n",
    "* `path`: the location where all your files for a given participant are located. Copy and paste the path by removing the asterisks and replacing the text between them.\n",
    "* `conditions`: the experimental conditions you used should be listed, for example: `['sitting', 'breathing']`.\n",
    "* `devices`: the devices you used should be listed, for example: `['empatica', 'polar']`. Please ensure that this is exactly the same as the names used to save your files. Additionally, ensure that you always specify the criterion device as the last element of the list.\n",
    "* `criterion`: specify the name of your criterion device, for example: `polar`. Please ensure that this is exactly the same as the name used to save your files.\n",
    "\n",
    "***Please Note:*** If you are using the VU-AMS device as your criterion (https://vu-ams.nl/), the inter-beat interval saved as a .txt file can be left as it is, and there is no need to modify it further. Just ensure that you name the device as \"vu\" in your files and also set the criterion as `vu`."
   ]
  },
  {
   "cell_type": "code",
   "execution_count": null,
   "id": "558ffdc3",
   "metadata": {},
   "outputs": [],
   "source": [
    "# Importing Module\n",
    "import wearablehrv"
   ]
  },
  {
   "cell_type": "code",
   "execution_count": null,
   "id": "98fb4677",
   "metadata": {},
   "outputs": [],
   "source": [
    "pp = \"test\" # Define the participant ID here\n",
    "path = r'***COPY-YOUR-ADDRESS-HERE***/'.replace('\\\\', '/') # Define where the files are located \n",
    "conditions = ['sitting', 'arithmetic', 'recovery', 'standing', 'breathing', 'neurotask', 'walking', 'biking']\n",
    "devices = [\"kyto\", \"heartmath\", \"rhythm\", \"empatica\", \"vu\"]  ### MAKE SURE TO PUT THE CRITERION DEVICE THE LAST ONE IN THE LIST \n",
    "criterion = \"vu\""
   ]
  },
  {
   "cell_type": "markdown",
   "id": "584665ca",
   "metadata": {},
   "source": [
    "---\n",
    "#### Optional Functionalities \n",
    "**(Skippable if You Are Not Using Empatica and/or LabFront)**\n",
    "\n",
    "There are specific conversion functionalities that assist you in shaping your dataset, preparing it for the `wearablehrv` pipeline. Currently, we support conversions for LabFront and Empatica EmbracePlus raw datasets. Our goal is to enhance this section to ensure compatibility with platforms and wearables commonly used in research.\n",
    "\n",
    "***LabFront Integration***: By using the `labfront_conversion` function, you can convert the data file that was exported from the LabFront platform (https://www.labfront.com/) into a format that is readble for this pipeline. Save the file in the same path. Use the `file_name` to indicate the name of the file, and be sure to add \".csv\" at the end. Here is an example file name:\n",
    "\n",
    "- 000001_garmin-device-bbi_P01_162a8cdc_garmin-device_5d1cdbe5.csv\n",
    "\n",
    "Make sure that `device_name` matches the name you used in the `devices` variable. For instance, if you are recording data from a Garmin watch via LabFront, you could save it as \"garmin\" in both `devices` and `device_name` variables. Enter the date for which you want to do the validation (e.g., '2023-04-04'). \n",
    "\n",
    "\n",
    "***Empatica Integration***: If you are using Empatica Embrace Plus, ensure that you place the entire folder (e.g., using CyberDuck) received for each participant within a day, which includes \"digital_biomarkers\" and \"raw_data\" folders. To organize this folder, name it as [participantID]_empatica (e.g., P00_empatica), and place it in the path. Next, run the `empatica_conversion` function to perform the transformation automatically and generate a .csv file that is compatible with the pipeline."
   ]
  },
  {
   "cell_type": "code",
   "execution_count": null,
   "id": "de69a12f",
   "metadata": {},
   "outputs": [],
   "source": [
    "# Skip this if you are not using LabFront or if your files are already converted into a proper format for this pipeline\n",
    "\n",
    "file_name = \"\"\n",
    "device_name = \"\"\n",
    "date = \"\"\n",
    "\n",
    "wearablehrv.individual.labfront_conversion (path, pp, file_name, device_name, date)"
   ]
  },
  {
   "cell_type": "code",
   "execution_count": null,
   "id": "dae9826f",
   "metadata": {},
   "outputs": [],
   "source": [
    "# Skip this if you are not using Empatica or if your files are already converted into a proper format for this pipeline\n",
    "\n",
    "wearablehrv.individual.empatica_conversion (path, pp)"
   ]
  },
  {
   "cell_type": "markdown",
   "id": "2a75ea8e",
   "metadata": {},
   "source": [
    "---\n",
    "## Defining events, importing data, and chopping data based on the events"
   ]
  },
  {
   "cell_type": "markdown",
   "id": "1568663f",
   "metadata": {},
   "source": [
    "In order to define the events, you have two options:\n",
    "\n",
    "Firstly (**recommended**), you can already have a saved .csv file named as [Participant ID]_events.csv in your path with a shape similar to this:\n",
    "\n",
    "| timestamp | conditions | datapoint |\n",
    "|-----------|------------|-----------|\n",
    "| 11:48:28  | sitting    | start     |\n",
    "| 11:50:28  | sitting    | end       |\n",
    "| 11:53:00  | breathing  | start     |\n",
    "| 11:55:00  | breathing  | end       |\n",
    "\n",
    "Check out [test_event.csv](https://github.com/Aminsinichi/wearable-hrv/blob/develop/tests/test_individual/test_events.csv) for an example. In this case, set `already_saved = True`. \n",
    "\n",
    "Secondly, you may not have such an events file. In this case, set `already_saved = False`. By running the code, a graphical user interface will pop up, where you can define your events.\n",
    "If you set `save_as_csv = True`, this event file will be saved in your path location. \n",
    "\n",
    "**WARNING:** Be careful not to overwrite your current event file.\n"
   ]
  },
  {
   "cell_type": "code",
   "execution_count": null,
   "id": "17443b72",
   "metadata": {},
   "outputs": [],
   "source": [
    "events = wearablehrv.individual.define_events (path, pp, conditions, already_saved= True, save_as_csv= False)"
   ]
  },
  {
   "cell_type": "markdown",
   "id": "9705d2ec",
   "metadata": {},
   "source": [
    "`data` refers to the imported continuous data for all of your devices, while `data_chopped` no longer represents continuous data. Instead, it chops each dataset for each device based on specific events (conditions). In `data`, the timestamps are already converted to the \"hh:mm:ss.ms\" format. "
   ]
  },
  {
   "cell_type": "code",
   "execution_count": null,
   "id": "0642cb89",
   "metadata": {},
   "outputs": [],
   "source": [
    "data = wearablehrv.individual.import_data (path, pp, devices)"
   ]
  },
  {
   "cell_type": "markdown",
   "metadata": {},
   "source": [
    "Before segmenting your data using the `data_chopped` function, run the `lag_correction` function. It helps you visualize the entire recording of your selected device against the criterion device. In the `Start Time` and `End Time` widgets, it automatically selects a portion of the data for you to create the plot. Feel free to change this until you find a portion of the data where you can clearly see the criterion and your selected device. Then, with the lag slider (with millisecond precision), modify the lag, and once you are happy with it, click on `Save Lag`. This will shift the timestamps based on your selected lag, making it more accurate when chopping the data, so that the devices are synchronized."
   ]
  },
  {
   "cell_type": "code",
   "execution_count": null,
   "metadata": {},
   "outputs": [],
   "source": [
    "wearablehrv.individual.lag_correction (data, devices, criterion)"
   ]
  },
  {
   "cell_type": "code",
   "execution_count": null,
   "metadata": {},
   "outputs": [],
   "source": [
    "data_chopped = wearablehrv.individual.chop_data (data, conditions, events, devices)"
   ]
  },
  {
   "cell_type": "markdown",
   "id": "400db1fe",
   "metadata": {},
   "source": [
    "## Visual Inspection: align and modify the length of the recordings "
   ]
  },
  {
   "cell_type": "markdown",
   "id": "f241dab3",
   "metadata": {},
   "source": [
    "By calling the `visual_inspection` function, a graphical user interface (GUI) will be displayed, allowing you to plot and navigate through each device and condition against your criterion device. This interface offers the following capabilities:\n",
    "\n",
    "1. **Inspect Data**: Visually inspect and compare your data.\n",
    "2. **Lag Alignment**: Adjust the time lag between your device's data and the criterion device. You can modify the lag in both seconds and milliseconds, thanks to the precision dropdown.\n",
    "3. **Trimming**: Define the start and end points of your data for both your selected device and the criterion.\n",
    "4. **Full Lag Correction**: It lets you decide whether the lag adjustment for a specific device should be applied across all conditions or just the currently selected condition.\n",
    "\n",
    "A recommended approach is to select a condition, inspect it across all devices, align the lags as necessary, and then move on to the next condition. Repeat this process until all conditions have been reviewed. After finishing the initial pass, it's a good practice to revisit and verify the alignments once more.\n",
    "\n",
    "The `nibi_before_cropping` and `nibi_after_cropping` variables can be calculated to track the number of interbeat intervals detected in each condition for each device, both before and after aligning and trimming the data. **Please make sure to run them if you are planning to use the `Group Pipeline`.**"
   ]
  },
  {
   "cell_type": "code",
   "execution_count": null,
   "id": "aaa8c760",
   "metadata": {},
   "outputs": [],
   "source": [
    "nibi_before_cropping = wearablehrv.individual.calculate_ibi (data_chopped, devices, conditions)"
   ]
  },
  {
   "cell_type": "code",
   "execution_count": null,
   "id": "d3e1b61c",
   "metadata": {
    "scrolled": false
   },
   "outputs": [],
   "source": [
    "wearablehrv.individual.visual_inspection (data_chopped, devices, conditions,criterion)"
   ]
  },
  {
   "cell_type": "code",
   "execution_count": null,
   "id": "180367c3",
   "metadata": {},
   "outputs": [],
   "source": [
    "nibi_after_cropping = wearablehrv.individual.calculate_ibi (data_chopped, devices, conditions)"
   ]
  },
  {
   "cell_type": "markdown",
   "id": "34d07063",
   "metadata": {},
   "source": [
    "### CheckPoint (Optional)"
   ]
  },
  {
   "cell_type": "markdown",
   "id": "7caef433",
   "metadata": {},
   "source": [
    "Up to this point, we have made many time-consuming modifications to our dataset. Therefore, it is advisable to create a backup so that you can retrieve the version of the `data_chopped` up to this point. The `save_backup` function saves the `data_chopped` variable in `.pkl` format at your specified path location. In order to retrieve this file, you can call the `import_backup` function."
   ]
  },
  {
   "cell_type": "code",
   "execution_count": null,
   "id": "e3760ae3",
   "metadata": {},
   "outputs": [],
   "source": [
    "wearablehrv.individual.save_backup (pp, path, data_chopped) #To save the file "
   ]
  },
  {
   "cell_type": "code",
   "execution_count": null,
   "id": "41f9e861",
   "metadata": {},
   "outputs": [],
   "source": [
    "data_chopped = wearablehrv.individual.import_backup (pp, path) #To read the file again"
   ]
  },
  {
   "cell_type": "markdown",
   "id": "275287ec",
   "metadata": {},
   "source": [
    "## Pre-processing: removing ectopic beats and movement artefact, and interpolating removed values"
   ]
  },
  {
   "cell_type": "markdown",
   "id": "cd7df2af",
   "metadata": {},
   "source": [
    "We rely on the `hrvanalysis` Python module for pre-processing. You can read the documentation here: https://aura-healthcare.github.io/hrv-analysis/hrvanalysis.html. \n",
    "\n",
    "**Please Note**: It is important to note that the shape of the `data_chopped` variable changes and is converted to \"rr intervals\" only after executing this code. The reason for this change is that all subsequent analyses and steps will be performed solely on inter-beat intervals. "
   ]
  },
  {
   "cell_type": "code",
   "execution_count": null,
   "id": "55f517c2",
   "metadata": {},
   "outputs": [],
   "source": [
    "data_pp, data_chopped = wearablehrv.individual.pre_processing (data_chopped, devices, conditions, method=\"karlsson\", custom_removing_rule = 0.25, low_rri=300, high_rri=2000)"
   ]
  },
  {
   "cell_type": "markdown",
   "id": "bed554af",
   "metadata": {},
   "source": [
    "#### How to Skip Data Pre-processing and Still Run Your Code\n",
    "If you wish to skip the data pre-processing step but still want to be able to execute the remaining code, please ensure that you run the following code:"
   ]
  },
  {
   "cell_type": "code",
   "execution_count": null,
   "id": "ad64e740",
   "metadata": {},
   "outputs": [],
   "source": [
    "# Skip this if you have already pre-processed your data\n",
    "\n",
    "data_chopped = {device: {condition: list(data_chopped[device][condition]['rr']) for condition in conditions} for device in devices}\n",
    "data_pp = data_chopped.copy()"
   ]
  },
  {
   "cell_type": "markdown",
   "id": "4776ec84",
   "metadata": {},
   "source": [
    "## Plotting pre-processed vs. original data"
   ]
  },
  {
   "cell_type": "markdown",
   "id": "33d25048",
   "metadata": {},
   "source": [
    "We can save the number of detected artefact for each device and condition using `calculate_artefact`, by comparing the data before and after pre-processing. **Please make sure to run them if you are planning to use the `Group Pipeline`.**\n",
    "\n",
    "You can plot the preprocessed versus original data by running the `ibi_comparison_plot` function. The down row always shows your criterion device, and the up row shows the selected device.\n",
    "\n",
    "A suggested approach is that you can experiment with the `pre_processing` function until you find the parameters that minimize the amount of detected artifact in your criterion device and optimize the amount of artifact in your other devices. To do so, make sure to first retrive your `data_chopped` variable. "
   ]
  },
  {
   "cell_type": "code",
   "execution_count": null,
   "id": "1bf98799",
   "metadata": {},
   "outputs": [],
   "source": [
    "artefact = wearablehrv.individual.calculate_artefact (data_chopped, data_pp, devices, conditions)"
   ]
  },
  {
   "cell_type": "code",
   "execution_count": null,
   "id": "56bbfced",
   "metadata": {},
   "outputs": [],
   "source": [
    "wearablehrv.individual.ibi_comparison_plot (data_chopped, data_pp, devices, conditions, criterion, width=20 , height=10)"
   ]
  },
  {
   "cell_type": "markdown",
   "id": "b4ceb468",
   "metadata": {},
   "source": [
    "## Data analysis "
   ]
  },
  {
   "cell_type": "markdown",
   "id": "995d4a4b",
   "metadata": {},
   "source": [
    "We rely on the hrvanalysis python module for time domain and frequency domain feature extraction. You can read the documentation here: https://aura-healthcare.github.io/hrv-analysis/hrvanalysis.html."
   ]
  },
  {
   "cell_type": "code",
   "execution_count": null,
   "id": "585dd2e7",
   "metadata": {},
   "outputs": [],
   "source": [
    "time_domain_features, frequency_domain_features = wearablehrv.individual.data_analysis (data_pp, devices, conditions)"
   ]
  },
  {
   "cell_type": "markdown",
   "id": "e60fa957",
   "metadata": {},
   "source": [
    "**Time Domain Features:**\n",
    "\n",
    "- `mean_nni`: Mean of RR-intervals.\n",
    "- `sdnn`: Standard deviation of the time interval between successive normal heart beats (i.e. the RR-intervals).\n",
    "- `sdsd`: Standard deviation of differences between adjacent RR-intervals.\n",
    "- `rmssd`: Square root of the mean of the sum of the squares of differences between adjacent NN-intervals. Reflects high frequency (fast or parasympathetic) influences on hrV (i.e., those influencing larger changes from one beat to the next).\n",
    "- `median_nni`: Median Absolute values of the successive differences between the RR-intervals.\n",
    "- `nni_50`: Number of interval differences of successive RR-intervals greater than 50 ms.\n",
    "- `pnni_50`: Proportion derived by dividing nni_50 (The number of interval differences of successive RR-intervals greater than 50 ms) by the total number of RR-intervals.\n",
    "- `nni_20`: Number of interval differences of successive RR-intervals greater than 20 ms.\n",
    "- `pnni_20`: Proportion derived by dividing nni_20 (The number of interval differences of successive RR-intervals greater than 20 ms) by the total number of RR-intervals.\n",
    "- `range_nni`: Difference between the maximum and minimum nn_interval.\n",
    "- `cvsd`: Coefficient of variation of successive differences equal to the rmssd divided by mean_nni.\n",
    "- `cvnni`: Coefficient of variation equal to the ratio of sdnn divided by mean_nni.\n",
    "- `mean_hr`: Mean Heart Rate.\n",
    "- `max_hr`: Maximum Heart Rate.\n",
    "- `min_hr`: Minimum Heart Rate.\n",
    "- `std_hr`: Standard deviation of heart rate.\n",
    "\n",
    "**Frequency Domain Features:**\n",
    "\n",
    "- `total_power`: Total power density spectral.\n",
    "- `vlf`: Variance ( = power ) in HRV in the Very low Frequency (.003 to .04 Hz by default). Reflects an intrinsic rhythm produced by the heart which is modulated primarily by sympathetic activity.\n",
    "- `lf`: Variance ( = power ) in HRV in the low Frequency (.04 to .15 Hz). Reflects a mixture of sympathetic and parasympathetic activity, but in long-term recordings, it reflects sympathetic activity and can be reduced by the beta-adrenergic antagonist propanolol.\n",
    "- `hf`: Variance ( = power ) in HRV in the High Frequency (.15 to .40 Hz by default). Reflects fast changes in beat-to-beat variability due to parasympathetic (vagal) activity. Sometimes called the respiratory band because it corresponds to HRV changes related to the respiratory cycle and can be increased by slow, deep breathing (about 6 or 7 breaths per minute) and decreased by anticholinergic drugs or vagal blockade.\n",
    "- `lf_hf_ratio`: lf/hf ratio is sometimes used by some investigators as a quantitative mirror of the sympatho/vagal balance.\n",
    "- `lfnu`: Normalized lf power.\n",
    "- `hfnu`: Normalized hf power.\n"
   ]
  },
  {
   "cell_type": "markdown",
   "id": "05a16b8a",
   "metadata": {},
   "source": [
    "## Plotting analysis results"
   ]
  },
  {
   "cell_type": "markdown",
   "id": "aeaca0f3",
   "metadata": {},
   "source": [
    "`results_comparison_plot` creates comparison bar charts for time and frequency domain measures of HRV for each device, both for the original data and after pre-processing. This also enables you to fine-tune your pre-processing parameters. To do so, make sure to first retrive your `data_chopped` variable.\n",
    "\n",
    "The `unfolding_plot` function helps visualize how the RMSSD (above plot) and heart rate (below plot) unfold over time in a given condition. It may be specifically interesting for the criterion device. By changing the `Sec` value, you can modify the time window within which the values are calculated in seconds."
   ]
  },
  {
   "cell_type": "code",
   "execution_count": null,
   "id": "43a2efff",
   "metadata": {},
   "outputs": [],
   "source": [
    "wearablehrv.individual.result_comparison_plot (data_chopped, time_domain_features, frequency_domain_features, devices, conditions, bar_width = 0.20, width = 20, height = 25)"
   ]
  },
  {
   "cell_type": "code",
   "execution_count": null,
   "id": "15ead657",
   "metadata": {},
   "outputs": [],
   "source": [
    "wearablehrv.individual.unfolding_plot (data_pp, devices, conditions, width = 10, height = 10)"
   ]
  },
  {
   "cell_type": "code",
   "execution_count": null,
   "id": "29a3f956",
   "metadata": {},
   "outputs": [],
   "source": [
    "wearablehrv.individual.bar_plot (time_domain_features, frequency_domain_features, devices, conditions, width=20, height=25, bar_width = 0.20)"
   ]
  },
  {
   "cell_type": "code",
   "execution_count": null,
   "id": "6b378753",
   "metadata": {},
   "outputs": [],
   "source": [
    "wearablehrv.individual.line_plot (time_domain_features, frequency_domain_features, devices, conditions, width=20, height=25)"
   ]
  },
  {
   "cell_type": "code",
   "execution_count": null,
   "id": "4859dec2",
   "metadata": {},
   "outputs": [],
   "source": [
    "wearablehrv.individual.radar_plot (time_domain_features, criterion, devices, conditions)"
   ]
  },
  {
   "cell_type": "markdown",
   "id": "415dae54",
   "metadata": {},
   "source": [
    "## Display the absolut values and changes between conditions "
   ]
  },
  {
   "cell_type": "markdown",
   "id": "41ebbb82",
   "metadata": {},
   "source": [
    "Using the following code, you can view the absolute values of each condition for every device, along with the changes from one condition to another within a device. This makes it easier to analyze the `line_plot` function simultaneously."
   ]
  },
  {
   "cell_type": "code",
   "execution_count": null,
   "id": "1feff49a",
   "metadata": {},
   "outputs": [],
   "source": [
    "wearablehrv.individual.display_changes (time_domain_features, frequency_domain_features, devices, conditions)"
   ]
  },
  {
   "cell_type": "markdown",
   "id": "2188915e",
   "metadata": {},
   "source": [
    "## Saving Data"
   ]
  },
  {
   "cell_type": "markdown",
   "id": "413d7ed1",
   "metadata": {},
   "source": [
    "The parameters `artefact`, `nibi_before_cropping`, and `nibi_after_cropping` are optional. If you have calculated them, you can set them as inputs (e.g., `artefact = artefact`). Otherwise, set these parameters to `None`, and `N/D` will be replaced in that column. **However, please note that if you aim to use the `Group Pipeline`, make sure to calculate and save these values.** To save your data, set `save_as_csv = True`. The final table will then be saved in your path (you can redefine this) with the name [participant ID].csv."
   ]
  },
  {
   "cell_type": "code",
   "execution_count": null,
   "id": "c65ae748",
   "metadata": {},
   "outputs": [],
   "source": [
    "df = wearablehrv.individual.save_data(pp, path, time_domain_features, frequency_domain_features, data_pp, devices, conditions, events, artefact=None, nibi_before_cropping=None, nibi_after_cropping=None, save_as_csv=False)\n",
    "df"
   ]
  },
  {
   "cell_type": "markdown",
   "id": "9a159905",
   "metadata": {},
   "source": [
    "---\n",
    "# Group Pipeline"
   ]
  },
  {
   "cell_type": "markdown",
   "id": "7522a8b7",
   "metadata": {},
   "source": [
    "## Introduction\n",
    "\n",
    "Once you have run the previous sections for all your participants and saved the data as [Participant_ID].csv (e.g., P00.csv) files, you can then run the following functions for group statistical analyses and visualization."
   ]
  },
  {
   "cell_type": "markdown",
   "id": "63c79b95",
   "metadata": {},
   "source": [
    "### Shape of datasets"
   ]
  },
  {
   "cell_type": "markdown",
   "id": "7dc971f5",
   "metadata": {},
   "source": [
    "Your data needs to be located in a folder. We propose that you save your data with the participant's ID, like this:\n",
    "\n",
    "- P01.csv\n",
    "- P02.csv\n",
    "- etc.\n",
    "\n",
    "Each file should contain a table similar to what you created with the individual script for each participant. Do not place any other files in this folder. \n",
    "\n",
    "To test the following functionalities, you can download the data for 10 participants. This data was collected using the procedure described in [Example of Data Collection and Sample Data](###-Example-of-Data-Collection-and-Sample-Data) and analyzed using the `Individual Pipeline`:\n",
    "\n",
    "- [P01.csv](https://github.com/Aminsinichi/wearable-hrv/blob/develop/tests/test_group/P01.csv)\n",
    "- [P02.csv](https://github.com/Aminsinichi/wearable-hrv/blob/develop/tests/test_group/P02.csv)\n",
    "- [P03.csv](https://github.com/Aminsinichi/wearable-hrv/blob/develop/tests/test_group/P03.csv)\n",
    "- [P04.csv](https://github.com/Aminsinichi/wearable-hrv/blob/develop/tests/test_group/P04.csv)\n",
    "- [P05.csv](https://github.com/Aminsinichi/wearable-hrv/blob/develop/tests/test_group/P05.csv)\n",
    "- [P06.csv](https://github.com/Aminsinichi/wearable-hrv/blob/develop/tests/test_group/P06.csv)\n",
    "- [P07.csv](https://github.com/Aminsinichi/wearable-hrv/blob/develop/tests/test_group/P07.csv)\n",
    "- [P08.csv](https://github.com/Aminsinichi/wearable-hrv/blob/develop/tests/test_group/P08.csv)\n",
    "- [P09.csv](https://github.com/Aminsinichi/wearable-hrv/blob/develop/tests/test_group/P09.csv)\n",
    "- [P10.csv](https://github.com/Aminsinichi/wearable-hrv/blob/develop/tests/test_group/P10.csv)"
   ]
  },
  {
   "cell_type": "code",
   "execution_count": null,
   "id": "139c6060",
   "metadata": {},
   "outputs": [],
   "source": [
    "# Importing Module\n",
    "import wearablehrv"
   ]
  },
  {
   "cell_type": "markdown",
   "id": "59d2f40a",
   "metadata": {},
   "source": [
    "The following section needs to be modified based on your datasets:\n",
    "\n",
    "* `path`: the location where all your files are located. Copy and paste the path by removing the asterisks and replacing the text between them.\n",
    "* `conditions`: the experimental conditions you used should be listed, for example: `['sitting', 'breathing']`.\n",
    "* `devices`: the devices you used should be listed, for example: `['polar', 'empatica']`. Please ensure that this is exactly the same as the names used to save your files. Additionally, ensure that you always specify the criterion device as the last element of the list.\n",
    "* `criterion`: specify the name of your criterion device, for example: `polar`. Please ensure that this is exactly the same as the name used to save your file.\n",
    "* `features`: the HRV features that you wish to include in your final group analysis. Please note, `singal_quality()` function requires `nibi_after_cropping` and `artefact`. Make sure to include these in your list.\n",
    "\n",
    "**Please note:** All figures and analyses are functional even if some recordings are missing. For instance, if only 4 out of 10 participants wore the Empatica device, the pipeline will still compute regression, ICC, and Bland-Altman analyses for those participants using the corresponding values from the criterion device. Additionally, all plots employ GUI widgets.\n",
    "\n",
    "**Please note:** If you are using too many conditions, participants, and devices, it might be the case that some visualizations may produce errors simply because they cannot handle that large amount of data. In those (rare) cases, consider slicing your data and providing fewer cases to your functions."
   ]
  },
  {
   "cell_type": "code",
   "execution_count": null,
   "id": "f5527370",
   "metadata": {},
   "outputs": [],
   "source": [
    "path = r'***COPY-YOUR-ADDRESS-HERE***/'.replace('\\\\', '/') # Define where the files are located\n",
    "conditions = ['sitting', 'arithmetic', 'recovery', 'standing', 'breathing', 'neurotask', 'walking', 'biking']\n",
    "devices = [\"heartmath\", \"kyto\",\"rhythm\", \"empatica\", \"vu\"] ### MAKE SURE TO PUT THE CRITERION DEVICE THE LAST ONE IN THE LIST #####\n",
    "criterion = \"vu\"\n",
    "features = [\"rmssd\", \"hf\",'pnni_50','mean_hr','sdnn', 'nibi_after_cropping', 'artefact'] # Make sure all these features exist, but feel free to add more "
   ]
  },
  {
   "cell_type": "markdown",
   "id": "68c09f58",
   "metadata": {},
   "source": [
    "## Importing data"
   ]
  },
  {
   "cell_type": "code",
   "execution_count": null,
   "id": "8a4993ea",
   "metadata": {},
   "outputs": [],
   "source": [
    "data, file_names = wearablehrv.group.import_data (path, conditions, devices, features)"
   ]
  },
  {
   "cell_type": "markdown",
   "id": "3d50cd8e",
   "metadata": {},
   "source": [
    "### Handling NaN values"
   ]
  },
  {
   "cell_type": "markdown",
   "id": "7e4449c8",
   "metadata": {},
   "source": [
    "When calculating the individual values, if certain devices or conditions are missing for a participant, the calculation of time or frequency domains may not be performed. As a result, NaN values are replaced for these cases. This interference affects some of the upcoming statistical analyses. By utilizing the `nan_handling` function provided below, any `[nan]` values can be transformed, if present, into empty brackets `[]`."
   ]
  },
  {
   "cell_type": "code",
   "execution_count": null,
   "id": "b94a6ba9",
   "metadata": {},
   "outputs": [],
   "source": [
    "data = wearablehrv.group.nan_handling (data, devices, features, conditions)"
   ]
  },
  {
   "cell_type": "markdown",
   "id": "2f33c81c",
   "metadata": {},
   "source": [
    "## Signal Quiality Check and Outliers Exclusion"
   ]
  },
  {
   "cell_type": "markdown",
   "id": "1eef00a0",
   "metadata": {},
   "source": [
    "The main idea is to report signal quiality and to exclude (optional; if necessary) readings from the devices where the signal quality is deemed insufficient according to certain thresholds.\n",
    "\n",
    "Two key metrics are used to determine signal quality:\n",
    "\n",
    "- `nibi_after_cropping`: The number of detected beat-to-beat intervals. A difference of more than `ibi_threshold` (20% by default) between a given device and the criterion device for the same participant and condition indicates a poor signal.\n",
    "\n",
    "- `artefact`: The number of detected artefacts. If the artefacts represent more than `artefact_threshold` (20% by default) of the detected beats in the given device for the same participant and condition, this also indicates a poor signal.\n",
    "\n",
    "If `exclude = True`, all feature values for that participant and condition will be replaced with empty lists. Otherwise, they are kept for further analysis.\n",
    "\n",
    "Both the `ibi_threshold` and `artefact_threshold` parameters can be tuned according to the specific needs of your analysis. A lower value makes the criteria more stringent, leading to more readings being excluded, while a higher value makes the criteria more lenient, leading to fewer exclusions.\n",
    "\n",
    "In cases where very few beats are detected in your signal, you may consider manually flagging them as missing. To do this, set `manual_missing=True`, and define a `missing_threshold`. For example, setting `missing_threshold` to 10 means that if only 10 beats are detected, the signal will be flagged as missing.\n",
    "\n",
    "After processing, the code generates two pandas dataframes that can be saved if `save_as_csv = True`:\n",
    "\n",
    "- `quality_report1.csv`: Detailed report showing for each participant, device, and condition, the number of detected beats and artefacts, and the decision to keep or exclude the data.\n",
    "\n",
    "- `quality_report2.csv`: Summary report showing the total count and percentage of decisions (\"Acceptable\", \"Poor\", \"Missing\") for each device and condition.\n",
    "\n",
    "The function saves the outputs of the signal quality assessment in two variables, `summary_df` and `quality_df`, which can be used for further plotting in the upcoming functions.\n",
    "\n",
    "\n",
    "At the end of the process, 'artefact' and 'nibi_after_cropping' data is removed from the `data` and `features` variable; **Therefore, it is important to run this code, even though you may not wish to save the reports or exclude the outliers.**"
   ]
  },
  {
   "cell_type": "code",
   "execution_count": null,
   "id": "bd95959e",
   "metadata": {},
   "outputs": [],
   "source": [
    "data, features, summary_df, quality_df = wearablehrv.group.signal_quality (data, path, conditions, devices, features, criterion,  file_names, exclude = False, save_as_csv = False, ibi_threshold = 0.20, artefact_threshold = 0.20, manual_missing=False, missing_threshold=10)"
   ]
  },
  {
   "cell_type": "markdown",
   "id": "f2702eed",
   "metadata": {},
   "source": [
    "After using the `signal_quality` function, you now have two plotting options to visually inspect your signal quality. To use `signal_quality_plot1`, you first need to define a `condition_mapping` dictionary that helps you group together the conditions and plot them in a more meaningful way. For instance, it can be based on your guess about the movement involved in each condition (or objectively based on accelerometer data, if available), or anything else that you wish. You can exclude the criterion device from being included in the calculation of the plot, if `criterion_exclusion = True`. If `device_selection = False`, this plot is created regardless of the devices (pooled together), whereas if you wish to plot the signal quality for a specific device, then set `device_selection = True`, and select the device, for instance, by `device = 'empatica'`. An example of a `condition_mapping` dictionary is as follows:"
   ]
  },
  {
   "cell_type": "code",
   "execution_count": null,
   "id": "8151c8e2",
   "metadata": {},
   "outputs": [],
   "source": [
    "# Categorizing conditions\n",
    "condition_mapping = {\n",
    "    'sitting': 'no movement', \n",
    "    'recovery': 'no movement', \n",
    "    'breathing': 'no movement', \n",
    "    'standing': 'no movement',\n",
    "    'arithmetic': 'subtle movement', \n",
    "    'neurotask': 'subtle movement',\n",
    "    'walking': 'involves movement', \n",
    "    'biking': 'involves movement'\n",
    "}"
   ]
  },
  {
   "cell_type": "code",
   "execution_count": null,
   "id": "cb10df66",
   "metadata": {},
   "outputs": [],
   "source": [
    "wearablehrv.group.signal_quality_plot1 (summary_df, condition_mapping, criterion, device_selection = False, device=None, criterion_exclusion = True, x_label = \"'Condition Categories\")"
   ]
  },
  {
   "cell_type": "markdown",
   "id": "ddc44cc7",
   "metadata": {},
   "source": [
    "You can also plot the signal quality for each device, regardless of the conditions, using the `signal_quality_plot2` function. If you wish to zoom into a specific condition, set `condition_selection = True`, and select the condition, for instance: `condition = \"sitting\"`."
   ]
  },
  {
   "cell_type": "code",
   "execution_count": null,
   "id": "2badfe68",
   "metadata": {},
   "outputs": [],
   "source": [
    "wearablehrv.group.signal_quality_plot2 (summary_df, conditions, devices, condition_selection = False, condition = None)"
   ]
  },
  {
   "cell_type": "markdown",
   "id": "167755ed",
   "metadata": {},
   "source": [
    "## Saving data"
   ]
  },
  {
   "cell_type": "markdown",
   "id": "8ea6a6b3",
   "metadata": {},
   "source": [
    "You can save the structured dataset and analyze it as you wish, for example, in another software."
   ]
  },
  {
   "cell_type": "code",
   "execution_count": null,
   "id": "716f1217",
   "metadata": {},
   "outputs": [],
   "source": [
    "wearablehrv.group.save_data (data, path, conditions, devices, features, file_names)"
   ]
  },
  {
   "cell_type": "markdown",
   "id": "02657cf8",
   "metadata": {},
   "source": [
    "## Descriptive plots"
   ]
  },
  {
   "cell_type": "code",
   "execution_count": null,
   "id": "08428ccd",
   "metadata": {},
   "outputs": [],
   "source": [
    "wearablehrv.group.violin_plot (data, conditions, features, devices)"
   ]
  },
  {
   "cell_type": "code",
   "execution_count": null,
   "id": "464168a4",
   "metadata": {},
   "outputs": [],
   "source": [
    "wearablehrv.group.box_plot (data, conditions, features, devices)"
   ]
  },
  {
   "cell_type": "code",
   "execution_count": null,
   "id": "1b09ec01",
   "metadata": {},
   "outputs": [],
   "source": [
    "wearablehrv.group.radar_plot (data, criterion, conditions, features, devices)"
   ]
  },
  {
   "cell_type": "code",
   "execution_count": null,
   "id": "670e8caf",
   "metadata": {},
   "outputs": [],
   "source": [
    "wearablehrv.group.hist_plot (data, conditions, features, devices)"
   ]
  },
  {
   "cell_type": "markdown",
   "id": "b1cb87ec",
   "metadata": {},
   "source": [
    "The function `bar_plot` creates bar plots in which the standard error of the mean is represented."
   ]
  },
  {
   "cell_type": "code",
   "execution_count": null,
   "id": "fa12f102",
   "metadata": {},
   "outputs": [],
   "source": [
    "wearablehrv.group.bar_plot (data, conditions, features, devices)"
   ]
  },
  {
   "cell_type": "markdown",
   "id": "5e9b642a",
   "metadata": {},
   "source": [
    "This function `matrix_plot` creates a heatmap to plot the data. The heatmap displays a specific feature for different participants and devices for a specific condition. The heatmap allows for easy comparison of the feature values across participants and devices. For example, by using this map, it can be observed that a device is systematically overestimating or underestimating a given feature.\n",
    "\n",
    "**Note:** If you have many participants, you may encounter errors when producing the figure. In this case, you can subselect a portion of your participants by modifying the variable `file_names`. For example, to select the first 20 participants, you can use: `file_names[0:20]`."
   ]
  },
  {
   "cell_type": "code",
   "execution_count": null,
   "id": "b5dd9524",
   "metadata": {},
   "outputs": [],
   "source": [
    "wearablehrv.group.matrix_plot (data, file_names, conditions, features, devices)"
   ]
  },
  {
   "cell_type": "markdown",
   "id": "c4ee84e6",
   "metadata": {},
   "source": [
    "The `density_plot` function creates a density plot to compare the distribution of specific feature in different heart rate devices under a given condition. The function uses the seaborn library to create a kernel density estimate plot (kdeplot) for each device, which shows the probability density function of a spesific feature. If the peaks* of the curves are in different locations or have different shapes, this suggests that the spesific feature values may differ across devices. On the other hand, if the curves are similar in shape and location, it suggests that the values are similar across devices.\n",
    "\n",
    "*The peak in a density plot indicates the point of highest density in the distribution of the data. In other words, it represents the most common or typical value for the variable being plotted."
   ]
  },
  {
   "cell_type": "code",
   "execution_count": null,
   "id": "944c11bb",
   "metadata": {},
   "outputs": [],
   "source": [
    "wearablehrv.group.density_plot (data, file_names, conditions, features, devices)"
   ]
  },
  {
   "cell_type": "markdown",
   "id": "b4a813f1",
   "metadata": {},
   "source": [
    "## Mean absolute percentage error and visualization\n",
    "\n",
    "\n",
    "The `mape_analysis` function outputs a dictionary containing the Mean Absolute Percentage Error (MAPE) and confidence intervals for each device compared to the criterion device. The structure is as follows:\n",
    "- **Top-level keys**: Names of the devices (excluding the criterion).\n",
    "- **Second-level keys**: Feature names.\n",
    "- **Third-level keys**: Condition names.\n",
    "- **Values**: A dictionary for each condition with two keys - `'MAPE'` and `'CI'` (confidence interval), where `'CI'` is a tuple containing the lower and upper bounds of the confidence interval.\n",
    "\n",
    "Optionally, if `save_as_csv` is set to `True` and a `path` is provided, the function will save these results in a CSV file at the specified location.\n",
    "\n",
    "\n",
    "The `mape_plot` function generates grouped bar charts to visualize MAPE values for each device across different conditions for a selected feature. The function allows interactive selection of features for comparison. \n"
   ]
  },
  {
   "cell_type": "code",
   "execution_count": null,
   "id": "26287bb9",
   "metadata": {},
   "outputs": [],
   "source": [
    "mape_data = wearablehrv.group.mape_analysis (data, criterion, devices, conditions, features, path=None, alpha=0.95, save_as_csv=False)"
   ]
  },
  {
   "cell_type": "code",
   "execution_count": null,
   "id": "58f8542b",
   "metadata": {},
   "outputs": [],
   "source": [
    "wearablehrv.group.mape_plot (mape_data, features, conditions, devices)"
   ]
  },
  {
   "cell_type": "markdown",
   "id": "5b986dc7",
   "metadata": {},
   "source": [
    "## (Optional) Check for normality and log transformation\n",
    "\n",
    "It might be the case that your data is not normally distributed. It is good to check this before doing any further statistical analysis. There are two functions in place for you:\n",
    "\n",
    "The `check_normality` function assesses the normality of data using the Shapiro-Wilk test. It returns three dictionaries:\n",
    "1. **`normality_results`**: Contains p-values and normality status for each device, feature, and condition.\n",
    "2. **`suggestions`**: Provides transformation recommendations for non-normal data.\n",
    "3. **`transformation_summary`**: Summarizes conditions requiring transformation for each device and feature.\n",
    "\n",
    "Based on your results, you can decide which features require transformation, and then you can use the following function:\n",
    "\n",
    "The `log_transform_data` function applies a log transformation to specified features ('rmssd', 'hf') in the data for all devices and conditions. **It modifies the `data` dictionary in place**, without returning any value. \n"
   ]
  },
  {
   "cell_type": "code",
   "execution_count": null,
   "id": "62bf092e",
   "metadata": {},
   "outputs": [],
   "source": [
    "normality_results, suggestions, transformation_summary = wearablehrv.group.check_normality (data, conditions, devices, features, alpha=0.05)"
   ]
  },
  {
   "cell_type": "code",
   "execution_count": null,
   "id": "4f0cf39a",
   "metadata": {},
   "outputs": [],
   "source": [
    "transform_features = [\"rmssd\", \"hf\"]\n",
    "wearablehrv.group.log_transform_data(data, devices, transform_features)"
   ]
  },
  {
   "cell_type": "markdown",
   "id": "4b293194",
   "metadata": {},
   "source": [
    "## Regression analysis and visualization"
   ]
  },
  {
   "cell_type": "markdown",
   "id": "53bc8ea3",
   "metadata": {},
   "source": [
    "The output of this function is a dictionary containing the regression analysis data for each device, feature, and condition. The keys of the dictionary are the names of the devices, and the values are nested dictionaries with keys being the feature names, and the values are another nested dictionary with keys being the condition names and values being the regression analysis data in the form of a dictionary with the following keys: `slope`, `intercept`, `r_value`, `p_value`, and `std_err`. All values are calculated against the criterion counterpart. If `save_as_csv = True`, the output will be saved as a .csv file in your specified path.\n",
    "\n",
    "**Note**: This function only calculates the univariate linear regression between inter-beat-intervals of a given device and the criterion. The limitation is that it does not take into account any modulations, such as BMI or skin tone. If you wish to incorporate those factors into your analysis, my suggestion is to use the `save_data()` function and run the necessary analyses using the saved data."
   ]
  },
  {
   "cell_type": "code",
   "execution_count": null,
   "id": "81256e30",
   "metadata": {},
   "outputs": [],
   "source": [
    "regression_data = wearablehrv.group.regression_analysis (data, criterion, conditions, devices, features, path, save_as_csv=False)"
   ]
  },
  {
   "cell_type": "markdown",
   "id": "945fe139",
   "metadata": {},
   "source": [
    "### (Optional) Adjusting P-values with Bonferonni\n",
    "\n",
    "Given multiple testing, you can correct the p-values for multiple comparison. The `bonferroni_correction_regression` function applies the Bonferroni correction to p-values in regression analysis results. \n",
    "\n",
    "**Key Features:**\n",
    "- **Input**: A dictionary of regression results for each device, feature, and condition.\n",
    "- **Functionality**: Adjusts p-values to account for multiple comparisons, reducing the chance of type I errors.\n",
    "- **Output**: Returns a dictionary similar to the input but with Bonferroni corrected p-values and a flag indicating significance based on the corrected alpha level."
   ]
  },
  {
   "cell_type": "code",
   "execution_count": null,
   "id": "740692f8",
   "metadata": {},
   "outputs": [],
   "source": [
    "regression_data = wearablehrv.group.bonferroni_correction_regression (regression_data, alpha=0.05)"
   ]
  },
  {
   "cell_type": "markdown",
   "id": "d7192dfb",
   "metadata": {},
   "source": [
    "The `regression_plot` function creates scatter plots with regression lines for device and criterion pairs across different conditions and features. It visualizes the correlation and significance (p-value) between devices.\n",
    "\n",
    "**Key Features:**\n",
    "- **Customizable Parameters**: Options for plot dimensions, colors, line styles, and more.\n",
    "- **Bonferroni Correction**: If `bonferroni_corrected` is set to `True`, the function uses Bonferroni corrected p-values for significance annotations in the plots.\n",
    "- **Interactive Selection**: Users can select devices and features through dropdown menus to update the plots dynamically.\n",
    "\n",
    "**Note:** If you've performed a Bonferroni correction using the `bonferroni_correction_regression` function, set `bonferroni_corrected=True` when calling `regression_plot` to ensure that the plot reflects the corrected significance levels."
   ]
  },
  {
   "cell_type": "code",
   "execution_count": null,
   "id": "8d57320c",
   "metadata": {},
   "outputs": [],
   "source": [
    "wearablehrv.group.regression_plot(regression_data, data, criterion, conditions, devices, features,\n",
    "                    width=15, height_per_condition=4, \n",
    "                    regression_line_style='-', regression_line_color='black', \n",
    "                    marker_color='gray', font_size=12, \n",
    "                    show_grid=True, background_color=None, \n",
    "                    bonferroni_corrected=True)"
   ]
  },
  {
   "cell_type": "markdown",
   "id": "32ea6632",
   "metadata": {},
   "source": [
    "The `heatmap_plot ()` function generates a correlation heatmap that displays the correlation between each device's data and the criterion device's data for each condition and feature. The heatmap provides a visual representation of how closely the data from each device matches the data from the criterion device for the selected feature."
   ]
  },
  {
   "cell_type": "code",
   "execution_count": null,
   "id": "972b2546",
   "metadata": {},
   "outputs": [],
   "source": [
    "wearablehrv.group.heatmap_plot (data, criterion, devices, conditions, features)"
   ]
  },
  {
   "cell_type": "markdown",
   "id": "5928f459",
   "metadata": {},
   "source": [
    "## Intraclass correlation coefficient and visualization"
   ]
  },
  {
   "cell_type": "markdown",
   "id": "50473188",
   "metadata": {},
   "source": [
    "We use: `pingouin.intraclass_corr (data, targets, raters, ratings)`\n",
    "\n",
    "- targets: name of column containing the “targets” (the things being rated): participants \n",
    "- raters: name of column containing the raters: devices \n",
    "- ratings: name of column containing the ratings: values \n",
    "\n",
    "The function `icc_analysis()` computes Intraclass Correlation Coefficient (ICC) for different heart rate devices, conditions, and HRV features. The ICC ranges from 0 to 1, where 0 indicates no agreement, and 1 indicates perfect agreement. In this function, ICC is computed using the two-way random-effects model, which considers both the inter-rater and intra-rater variability. The function computes ICC separately for each device, feature, and condition combination. The values are calulated for each device against the criterion device. \n",
    "\n",
    "The output of the function is a nested dictionary `icc_data` that stores the ICC values for each combination of device, feature, and condition, where device, feature, and condition are the keys that represent different devices, HRV features, and conditions, respectively. ICC1, ICC2, ICC3, etc., are the keys that represent different ICC metrics computed using different methods (e.g., ICC1 for single-measure ICC or ICC2 for average-measure ICC), and val1, val2, val3, etc., are the corresponding ICC values.\n",
    "\n",
    "In the case of comparing the feautres for different participants obtained from two devices (a given device against the criterion device), you might be interested in the consistency of the ratings, and therefore ICC1 would be a good choice to interpret.\n",
    "\n",
    "If `save_as_csv = True`, the output will be saved as a .csv file in your specified path.\n",
    "\n",
    "The `icc_plot()` function provides a visual representation of the ICC values in the form of an interactive heatmap. The heatmap displays ICC values for each device (compared to the criterion device) across various conditions for a selected feature. Additionally, the heatmap annotations provide the 95% confidence intervals for each ICC value."
   ]
  },
  {
   "cell_type": "code",
   "execution_count": null,
   "id": "84ec5baa",
   "metadata": {},
   "outputs": [],
   "source": [
    "icc_data = wearablehrv.group.icc_analysis (data, criterion, devices, conditions, features, path, save_as_csv=False)"
   ]
  },
  {
   "cell_type": "code",
   "execution_count": null,
   "id": "cc8c337b",
   "metadata": {},
   "outputs": [],
   "source": [
    "wearablehrv.group.icc_plot (icc_data, conditions, devices, features, font_size=9, cmap=\"coolwarm\")"
   ]
  },
  {
   "cell_type": "markdown",
   "id": "1c16cc8c",
   "metadata": {},
   "source": [
    "## Bland-Altman analysis and visualization"
   ]
  },
  {
   "cell_type": "markdown",
   "id": "b59b015d",
   "metadata": {},
   "source": [
    "Bland-Altman analysis is a statistical method used to compare two quantitative measurement methods.\n",
    "\n",
    "The first function, `blandaltman_analysis`, performs Bland-Altman analysis for each device against the criterion device, for all features, and conditions. It calculates the bias, standard deviation (SD), and limits of agreement (LOA) for each combination. The results are saved in a nested dictionary structure called `blandaltman_data` with each combination of device, feature, and condition as the keys.\n",
    "\n",
    "If `save_as_csv = True`, the output will be saved as a .csv file in your specified path.\n",
    "\n",
    "The second function, `blandaltman_plot` creates a plot for each combination of device and condition agianst the criterion, with each plot showing the Bland-Altman analysis for the selected feature in a chosen device. It shows the difference between the measurements from the two devices on the y-axis and the average of the measurements on the x-axis. The LOA are shown as dashed lines on the plot. The title and labels for each plot are set using the parameters passed to the function.\n"
   ]
  },
  {
   "cell_type": "code",
   "execution_count": null,
   "id": "adb228be",
   "metadata": {},
   "outputs": [],
   "source": [
    "blandaltman_data = wearablehrv.group.blandaltman_analysis (data, criterion, devices, conditions, features, path, save_as_csv=False)"
   ]
  },
  {
   "cell_type": "code",
   "execution_count": null,
   "id": "e5203d0a",
   "metadata": {},
   "outputs": [],
   "source": [
    "wearablehrv.group.blandaltman_plot (blandaltman_data, data, criterion, conditions, devices, features, \n",
    "                         width=10, height_per_plot=5, agreement_bound=1.96, confidenceInterval=95, \n",
    "                         percentage=False, mean_diff_color='#FF6347', boundary_color='#20B2AA', pointColour='#8B008B', shade=True)"
   ]
  }
 ],
 "metadata": {
  "kernelspec": {
   "display_name": "Python 3 (ipykernel)",
   "language": "python",
   "name": "python3"
  },
  "language_info": {
   "codemirror_mode": {
    "name": "ipython",
    "version": 3
   },
   "file_extension": ".py",
   "mimetype": "text/x-python",
   "name": "python",
   "nbconvert_exporter": "python",
   "pygments_lexer": "ipython3",
   "version": "3.11.2"
  }
 },
 "nbformat": 4,
 "nbformat_minor": 5
}
