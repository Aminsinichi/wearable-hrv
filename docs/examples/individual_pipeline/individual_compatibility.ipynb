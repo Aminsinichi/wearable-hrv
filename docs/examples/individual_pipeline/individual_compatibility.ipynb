{
 "cells": [
  {
   "cell_type": "markdown",
   "id": "47627afc",
   "metadata": {},
   "source": [
    "# Compatibility\n",
    "\n",
    "**If you do not use any of systems mentioned below, this notebook is not for you.**\n",
    "\n",
    "As explained in the `1.individual_data_preparation.ipynb` notebook, the data needs to be a .csv file with two columns, one called \"timestamp,\" and one called \"rr.\" If your data is not in this format, you need to first convert it.\n",
    "\n",
    "`wearablehrv` is already compatible with 3 systems. That means if you are using any of these systems for recording your data, there are already built-in functionalities that convert and prepare the data in a format that is readable for `wearablehrv`."
   ]
  },
  {
   "cell_type": "markdown",
   "id": "7c14913b",
   "metadata": {},
   "source": [
    "<div style=\"border:1px solid; padding:10px; border-radius:5px; margin:10px 0;\">\n",
    "\n",
    "**Note**: Throughout the example notebooks and also in the code, we used the term \"<u>criterion</u>,\" which refers to the device that the rest of the devices are compared against. This is also referred to as \"reference system,\" \"ground truth,\" and \"gold standard\" in the literature. This is usually an electrocardiography (ECG) device.\n",
    "\n",
    "</div>"
   ]
  },
  {
   "cell_type": "code",
   "execution_count": null,
   "id": "e7dcd35e",
   "metadata": {},
   "outputs": [],
   "source": [
    "# Importing Module\n",
    "import wearablehrv"
   ]
  },
  {
   "cell_type": "markdown",
   "id": "723ab568",
   "metadata": {},
   "source": [
    "## 1. Labfront\n",
    "\n",
    "[Labfront](https://www.labfront.com/) is a research tool that unifies real-world data capture from wearables participant management, and data analysis into a single research platform.\n",
    "\n",
    "By using the `labfront_conversion` function, you can convert the data file that was exported from the LabFront platform  into a format that is readble for `wearablehrv`. Save the file in the same path. Use the `file_name` to indicate the name of the file, and be sure to add \".csv\" at the end. Here is an example file name:\n",
    "\n",
    "- 000001_garmin-device-bbi_P01_162a8cdc_garmin-device_5d1cdbe5.csv\n",
    "\n",
    "Make sure that `device_name` matches the name you used in the `devices` variable. For instance, if you are recording data from a Garmin watch via LabFront, you could save it as \"garmin\" in both `devices` and `device_name` variables. Enter the date for which you want to do the validation (e.g., '2023-04-04'). And then, you can run the following code:"
   ]
  },
  {
   "cell_type": "code",
   "execution_count": null,
   "id": "0275e26c",
   "metadata": {},
   "outputs": [],
   "source": [
    "file_name = \"\" # To be defined\n",
    "device_name = \"\" # To be defined\n",
    "date = \"\" # To be defined\n",
    "\n",
    "wearablehrv.individual.labfront_conversion (path, pp, file_name, device_name, date)"
   ]
  },
  {
   "cell_type": "markdown",
   "id": "f23127c6",
   "metadata": {},
   "source": [
    "## 2. Empatica Embrace Plus\n",
    "\n",
    "If you are using Empatica Embrace Plus, ensure that you place the entire folder that contains the raw data (e.g., using CyberDuck) received for each participant within a day, which includes \"digital_biomarkers\" and \"raw_data\" folders. To organize this folder, name it as [participantID]_empatica (e.g., P00_empatica), and place it in the path. Next, run the `empatica_conversion` function to perform the transformation automatically and generate a .csv file that is compatible with the pipeline. This code will read .avro files, stack them, extract the systolic peaks, and convert the timestamps to milliseconds."
   ]
  },
  {
   "cell_type": "code",
   "execution_count": null,
   "id": "bd4edc20",
   "metadata": {},
   "outputs": [],
   "source": [
    "wearablehrv.individual.empatica_conversion (path, pp)"
   ]
  },
  {
   "cell_type": "markdown",
   "id": "26f7329c",
   "metadata": {},
   "source": [
    "## 3. VU-AMS\n",
    "\n",
    "[Vrije Universiteit-Ambulatory Monitoring Solutions](https://vu-ams.nl/) is an ECG wearable. When you record your raw signal, you need to open it with its software called \"VU-DAMS.\" You can then export the interbeat intervals as a .txt file.\n",
    "\n",
    "`wearablehrv` is already compatible with this text file, such that when you specify the name of your device as `vu`, it can read this file. Therefore, you do not need to convert your data."
   ]
  },
  {
   "cell_type": "code",
   "execution_count": null,
   "id": "2efc86de",
   "metadata": {},
   "outputs": [],
   "source": [
    "import os\n",
    "path = wearablehrv.data.download_data_and_get_path()\n",
    "os.listdir (path)"
   ]
  },
  {
   "cell_type": "markdown",
   "id": "3441ad6f",
   "metadata": {},
   "source": [
    "You can see \"test_vu.txt\" is a .txt file, but by specifying \"vu\" as the name of the device, the pipeline can read it."
   ]
  },
  {
   "cell_type": "code",
   "execution_count": null,
   "id": "9dcaf56b",
   "metadata": {},
   "outputs": [],
   "source": [
    "pp = \"test\" \n",
    "conditions = ['sitting', 'arithmetic', 'recovery', 'standing', 'breathing', 'neurotask', 'walking', 'biking'] \n",
    "devices = [\"kyto\", \"heartmath\", \"rhythm\", \"empatica\", \"vu\"]  \n",
    "criterion = \"vu\" \n",
    "events = wearablehrv.individual.define_events (path, pp, conditions, already_saved= True, save_as_csv= False)\n",
    "data = wearablehrv.individual.import_data (path, pp, devices)"
   ]
  }
 ],
 "metadata": {
  "kernelspec": {
   "display_name": "Python 3 (ipykernel)",
   "language": "python",
   "name": "python3"
  },
  "language_info": {
   "codemirror_mode": {
    "name": "ipython",
    "version": 3
   },
   "file_extension": ".py",
   "mimetype": "text/x-python",
   "name": "python",
   "nbconvert_exporter": "python",
   "pygments_lexer": "ipython3",
   "version": "3.12.1"
  }
 },
 "nbformat": 4,
 "nbformat_minor": 5
}
