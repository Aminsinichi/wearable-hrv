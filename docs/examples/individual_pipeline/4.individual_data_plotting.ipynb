{
 "cells": [
  {
   "cell_type": "markdown",
   "id": "2cff9a48",
   "metadata": {},
   "source": [
    "# Individual Plotting\n",
    "\n",
    "In this individual pipeline, there are also many plotting options. Of course, plotting the results for one individual subject for all the conditions and devices may not necessarily be very informative about the performance and validity of a device, but it can still be very interesting to see. It can also come in handy if a researcher is not planning to run a full validation study but would like to only test a device against a criterion in a couple of conditions, and get a sense of how well it performs."
   ]
  },
  {
   "cell_type": "markdown",
   "id": "618c5064",
   "metadata": {},
   "source": [
    "<div style=\"border:1px solid; padding:10px; border-radius:5px; margin:10px 0;\">\n",
    "\n",
    "**Note**: Throughout the example notebooks and also in the code, we used the term \"<u>criterion</u>,\" which refers to the device that the rest of the devices are compared against. This is also referred to as \"reference system,\" \"ground truth,\" and \"gold standard\" in the literature. This is usually an electrocardiography (ECG) device.\n",
    "\n",
    "</div>"
   ]
  },
  {
   "cell_type": "markdown",
   "id": "698b8398",
   "metadata": {},
   "source": [
    "## Previous Steps\n",
    "\n",
    "If you have not done so, first take a look at the following notebooks:\n",
    "\n",
    "- [Analyze your data](https://github.com/Aminsinichi/wearable-hrv/blob/master/docs/examples/individual_pipeline/3.individual_data_analysis.ipynb)\n"
   ]
  },
  {
   "cell_type": "code",
   "execution_count": null,
   "id": "437bab1a",
   "metadata": {},
   "outputs": [],
   "source": [
    "# Importing Module\n",
    "import wearablehrv"
   ]
  },
  {
   "cell_type": "markdown",
   "id": "acab2345",
   "metadata": {},
   "source": [
    "The code in the following cell has been explained in the previous notebooks. Run it, so we can continue with the examples in this notebook."
   ]
  },
  {
   "cell_type": "code",
   "execution_count": null,
   "id": "f2da3ac0",
   "metadata": {},
   "outputs": [],
   "source": [
    "path = wearablehrv.data.download_data_and_get_path()\n",
    "pp = \"test\" \n",
    "conditions = ['sitting', 'arithmetic', 'recovery', 'standing', 'breathing', 'neurotask', 'walking', 'biking'] \n",
    "devices = [\"kyto\", \"heartmath\", \"rhythm\", \"empatica\", \"vu\"]  \n",
    "criterion = \"vu\" \n",
    "events = wearablehrv.individual.define_events (path, pp, conditions, already_saved= True, save_as_csv= False)\n",
    "data = wearablehrv.individual.import_data (path, pp, devices)\n",
    "data_chopped = wearablehrv.individual.chop_data (data, conditions, events, devices)\n",
    "data_pp, data_chopped = wearablehrv.individual.pre_processing (data_chopped, devices, conditions, method=\"karlsson\", custom_removing_rule = 0.25, low_rri=300, high_rri=2000)\n",
    "time_domain_features, frequency_domain_features = wearablehrv.individual.data_analysis (data_pp, devices, conditions)"
   ]
  },
  {
   "cell_type": "markdown",
   "id": "05a16b8a",
   "metadata": {},
   "source": [
    "There are a few plotting options below that can be helpful to immediately see what is going on in the data.\n",
    "\n",
    "**Comparison Plot**\n",
    "\n",
    "It also serves as a diagnostic tool to help you fine-tune your preprocessing parameters. You can see bar plots, plotting for each of your devices (if you have a few) on the x-axis, and the y-axis shows your selected value for the widget `Time Feature` and `Frequency Feature`. You can also select which condition, with the `Condition` widget. The plot shows you the original data (red) and processed data (black). You can, for instance, check if doing your outlier detection dramatically changes the values in a given condition for the criterion plot, or how values in a device look like before and after preprocessing."
   ]
  },
  {
   "cell_type": "code",
   "execution_count": null,
   "id": "43a2efff",
   "metadata": {},
   "outputs": [],
   "source": [
    "wearablehrv.individual.result_comparison_plot (data_chopped, time_domain_features, frequency_domain_features, devices, conditions, bar_width = 0.20, width = 20, height = 25)"
   ]
  },
  {
   "cell_type": "markdown",
   "id": "c1685482",
   "metadata": {},
   "source": [
    "**Unfolding Plot**\n",
    "\n",
    "This helps visualize how the RMSSD (above plot) and heart rate (below plot) unfold over time in a given condition. It may be specifically interesting for the criterion device. By changing the `Sec` value, you can modify the time window within which the values are calculated in seconds. This is just to get an impression of things, for instance, maybe you want to know how over time the heart rate changed in a given experimental condition."
   ]
  },
  {
   "cell_type": "code",
   "execution_count": null,
   "id": "15ead657",
   "metadata": {},
   "outputs": [],
   "source": [
    "wearablehrv.individual.unfolding_plot (data_pp, devices, conditions, width = 10, height = 10)"
   ]
  },
  {
   "cell_type": "markdown",
   "id": "d48eb664",
   "metadata": {},
   "source": [
    "**Bar Plot**\n",
    "\n",
    "You can now finally visualize the performance of all devices together with the criterion device, in one snapshot, easily switch between time-domain and frequency-domain variables, for all your experimental conditions. This plot can immediately reveal, for one participant, how close each device value is to the criterion device value, in each condition."
   ]
  },
  {
   "cell_type": "code",
   "execution_count": null,
   "id": "29a3f956",
   "metadata": {},
   "outputs": [],
   "source": [
    "wearablehrv.individual.bar_plot (time_domain_features, frequency_domain_features, devices, conditions, width=20, height=25, bar_width = 0.15)"
   ]
  },
  {
   "cell_type": "markdown",
   "id": "505d26f1",
   "metadata": {},
   "source": [
    "\n",
    "**Line Plot**\n",
    "\n",
    "This is similar to the bar plot but helps to easily detect trends. For instance, you may immediately see (especially if you are testing multiple devices), if all devices successfully detect \"changes\" from one condition to the next. If there is one device that you notice a systematic bias (e.g., always is higher than all the other devices), etc.\n"
   ]
  },
  {
   "cell_type": "code",
   "execution_count": null,
   "id": "6b378753",
   "metadata": {},
   "outputs": [],
   "source": [
    "wearablehrv.individual.line_plot (time_domain_features, frequency_domain_features, devices, conditions, width=20, height=25)"
   ]
  },
  {
   "cell_type": "markdown",
   "id": "85498e1c",
   "metadata": {},
   "source": [
    "**Display Changes**\n",
    "\n",
    "When looking at the line plot, and if you are especially interested in seeing the trends and changes from one condition to another, the following function, `display_changes`, can come in handy. It will first display a table containing the calculated values based on your selection with the widgets for the time-domain and frequency domain, in all devices and conditions. Moreover, it also shows the table of \"changes\"—how those values changed from the previous condition to the next. Why can this be interesting? Because then you can numerically see some systematic biases. For instance, if the criterion device is changing -84.08 RMSSD values from the \"neurotask\" condition to the \"walking\" condition, and a device, e.g., Kyto, shows a positive 69.77 (!), that shows how it is overestimating the RMSSD values. In short, you can check the \"direction\" and the \"magnitude\" of changes from one condition to the next and get a sense of biases."
   ]
  },
  {
   "cell_type": "code",
   "execution_count": null,
   "id": "d3e24ca0",
   "metadata": {},
   "outputs": [],
   "source": [
    "wearablehrv.individual.display_changes (time_domain_features, frequency_domain_features, devices, conditions)"
   ]
  },
  {
   "cell_type": "markdown",
   "id": "faa3a9d8",
   "metadata": {},
   "source": [
    "\n",
    "**Radar Plot**\n",
    "\n",
    "A handy plot that shows you for each device and condition (you can select them via widgets) four outcome variables: mean HR, RMSSD, SDNN, and PNN50. It helps you to immediately get a sense of how a device maps on top of a criterion device for these outcome variables."
   ]
  },
  {
   "cell_type": "code",
   "execution_count": null,
   "id": "4859dec2",
   "metadata": {},
   "outputs": [],
   "source": [
    "wearablehrv.individual.radar_plot (time_domain_features, criterion, devices, conditions)"
   ]
  },
  {
   "cell_type": "markdown",
   "id": "882faf48",
   "metadata": {},
   "source": [
    "That's it! \n",
    "\n",
    "## Next Steps\n",
    "\n",
    "You're now ready to move on to the next notebook examples.\n",
    "\n",
    "Continue by consulting:\n",
    "\n",
    "- [How to prepare your data for the group pipeline](https://github.com/Aminsinichi/wearable-hrv/blob/master/docs/examples/group_pipeline/1.group_data_preparation.ipynb)\n"
   ]
  }
 ],
 "metadata": {
  "kernelspec": {
   "display_name": "Python 3 (ipykernel)",
   "language": "python",
   "name": "python3"
  },
  "language_info": {
   "codemirror_mode": {
    "name": "ipython",
    "version": 3
   },
   "file_extension": ".py",
   "mimetype": "text/x-python",
   "name": "python",
   "nbconvert_exporter": "python",
   "pygments_lexer": "ipython3",
   "version": "3.12.1"
  }
 },
 "nbformat": 4,
 "nbformat_minor": 5
}
