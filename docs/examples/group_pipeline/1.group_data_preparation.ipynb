{
 "cells": [
  {
   "cell_type": "markdown",
   "id": "31d865c0",
   "metadata": {},
   "source": [
    "# Preparing Your Data for wearablehrv \n",
    "\n",
    "After you have gone through the individual pipeline and pre-processed and analyzed data for each participant, each device, and condition, you save your data with the format of [ParticipantID].csv, for instance, P01.csv, P02.csv, ..., P10.csv. These files are now ready to be incorporated into the Group pipeline of `wearablehrv`."
   ]
  },
  {
   "cell_type": "markdown",
   "id": "6bc553a7",
   "metadata": {},
   "source": [
    "<div style=\"border:1px solid; padding:10px; border-radius:5px; margin:10px 0;\">\n",
    "\n",
    "**Note**: Throughout the example notebooks and also in the code, we used the term \"<u>criterion</u>,\" which refers to the device that the rest of the devices are compared against. This is also referred to as \"reference system,\" \"ground truth,\" and \"gold standard\" in the literature. This is usually an electrocardiography (ECG) device.\n",
    "\n",
    "</div>"
   ]
  },
  {
   "cell_type": "markdown",
   "id": "c25e2ee6",
   "metadata": {},
   "source": [
    "## Previous Steps\n",
    "\n",
    "If you have not done so, first take a look at the following notebooks:\n",
    "\n",
    "- [How to prepare your data for the individual pipeline](https://github.com/Aminsinichi/wearable-hrv/blob/master/docs/examples/individual_pipeline/1.individual_data_preparation.ipynb)\n",
    "- [Preprocess your data](https://github.com/Aminsinichi/wearable-hrv/blob/master/docs/examples/individual_pipeline/2.individual_data_preprocessing.ipynb)\n",
    "- [Analyze your data](https://github.com/Aminsinichi/wearable-hrv/blob/master/docs/examples/individual_pipeline/3.individual_data_analysis.ipynb)\n",
    "- [Plot your data](https://github.com/Aminsinichi/wearable-hrv/blob/master/docs/examples/individual_pipeline/4.individual_data_plotting.ipynb)\n"
   ]
  },
  {
   "cell_type": "markdown",
   "id": "63c79b95",
   "metadata": {},
   "source": [
    "### Shape of datasets"
   ]
  },
  {
   "cell_type": "markdown",
   "id": "7dc971f5",
   "metadata": {},
   "source": [
    "Your data needs to be located in a folder. We suggest that you save your data with the participant's ID, like this:\n",
    "\n",
    "- P01.csv\n",
    "- P02.csv\n",
    "- etc.\n",
    "\n",
    "Each file should contain a table similar to what you created and saved with the individual script for each participant.\n",
    "\n",
    "**Note: Do not place any other files in this folder.**\n",
    "\n",
    "To test the following functionalities, you can download data from 10 participants. We have already run the data through the individual pipeline and saved the .csv files. When you run the following code, it will first ensure there is no data in your Cache, then download only the relevant files for Group analysis. \n",
    "\n",
    "For your personal analysis, you should replace this path with the location of your actual datasets that have gone through the individual pipeline."
   ]
  },
  {
   "cell_type": "code",
   "execution_count": null,
   "id": "66dc999d",
   "metadata": {},
   "outputs": [],
   "source": [
    "# Importing Module\n",
    "import wearablehrv"
   ]
  },
  {
   "cell_type": "code",
   "execution_count": null,
   "id": "16a73fd6",
   "metadata": {},
   "outputs": [],
   "source": [
    "wearablehrv.data.clear_wearablehrv_cache() # To make sure your cache is removed\n",
    "# To download and save only relevant files for group analysis\n",
    "path = wearablehrv.data.download_data_and_get_path([\"P01.csv\", \"P02.csv\", \"P03.csv\", \"P04.csv\", \"P05.csv\", \"P06.csv\", \"P07.csv\", \"P08.csv\", \"P09.csv\", \"P10.csv\"])"
   ]
  },
  {
   "cell_type": "code",
   "execution_count": null,
   "id": "3bcf13bf",
   "metadata": {},
   "outputs": [],
   "source": [
    "import os \n",
    "\n",
    "# Check out what files you have downloaded and where are they located\n",
    "print (path)\n",
    "os.listdir(path)"
   ]
  },
  {
   "cell_type": "markdown",
   "id": "59d2f40a",
   "metadata": {},
   "source": [
    "The following section needs to be modified based on your datasets:\n",
    "\n",
    "* `conditions`: the experimental conditions you used should be listed, for example: `['sitting', 'breathing']`.\n",
    "* `devices`: the devices you used should be listed, for example: `['empatica', 'heartmath']`. Please ensure that this is exactly the same as the names used to save your files. Additionally, ensure that you always specify the criterion device as the last element of the list.\n",
    "* `criterion`: specify the name of your criterion device, for example: `vu`. Please ensure that this is exactly the same as the name used to save your file.\n",
    "* `features`: the HRV features that you wish to include in your final group analysis. \n",
    "  \n",
    "**Note:** Make sure to include `nibi_after_cropping` and `artefact` your `features` list.  "
   ]
  },
  {
   "cell_type": "code",
   "execution_count": null,
   "id": "f5527370",
   "metadata": {},
   "outputs": [],
   "source": [
    "# Define your experimental conditions\n",
    "conditions = ['sitting', 'arithmetic', 'recovery', 'standing', 'breathing', 'neurotask', 'walking', 'biking'] \n",
    "\n",
    "# Define the devices you want to validate against the criterion. \n",
    "# Note: MAKE SURE TO PUT THE CRITERION DEVICE THE LAST ONE IN THE LIST \n",
    "devices = [\"kyto\", \"heartmath\", \"rhythm\", \"empatica\", \"vu\"] \n",
    "\n",
    "# Redefine the name of the criterion device\n",
    "criterion = \"vu\" \n",
    "features = [\"rmssd\", \"hf\",'pnni_50','mean_hr','sdnn', 'nibi_after_cropping', 'artefact'] # Make sure at least all these features exist, but feel free to add more "
   ]
  },
  {
   "cell_type": "markdown",
   "id": "68c09f58",
   "metadata": {},
   "source": [
    "## Importing Data\n",
    "\n",
    "Once you have set all these up, **it is very easy to read all your files from all your participants in one go**. You just need to run the following code."
   ]
  },
  {
   "cell_type": "code",
   "execution_count": null,
   "id": "8a4993ea",
   "metadata": {},
   "outputs": [],
   "source": [
    "data, file_names = wearablehrv.group.import_data (path, conditions, devices, features)"
   ]
  },
  {
   "cell_type": "markdown",
   "id": "2d5653ac",
   "metadata": {},
   "source": [
    "`data` is now a dictionary. For instance, if you want to retrieve the RMSSD values for the \"kyto\" device in the \"biking\" condition for all participants, you can simply run the following code:"
   ]
  },
  {
   "cell_type": "code",
   "execution_count": null,
   "id": "29055ed4",
   "metadata": {},
   "outputs": [],
   "source": [
    "data[\"kyto\"][\"rmssd\"][\"biking\"]"
   ]
  },
  {
   "cell_type": "markdown",
   "id": "3d50cd8e",
   "metadata": {},
   "source": [
    "### Handling NaN Values"
   ]
  },
  {
   "cell_type": "markdown",
   "id": "7e4449c8",
   "metadata": {},
   "source": [
    "When running the individual pipeline for each participant, if certain devices or conditions are missing for a participant, the calculation of time or frequency domains may not be performed. As a result, NaN values are replaced for these cases. This interference affects some of the upcoming statistical analyses. By utilizing the `nan_handling` function provided below, any `[nan]` values can be transformed, if present, into empty brackets `[]`, and this will solve the issue.\n",
    "\n",
    "**Note:** It is suggested to always run the following code after reading your files. "
   ]
  },
  {
   "cell_type": "code",
   "execution_count": null,
   "id": "b94a6ba9",
   "metadata": {},
   "outputs": [],
   "source": [
    "data = wearablehrv.group.nan_handling (data, devices, features, conditions)"
   ]
  },
  {
   "cell_type": "markdown",
   "id": "c6faee1e",
   "metadata": {},
   "source": [
    "That's it! At this point, you should have been able to read all your data from all individual participants, and removed NaN values.\n",
    "\n",
    "## Next Steps\n",
    "\n",
    "You're now ready to move on to the next notebook examples. \n",
    "\n",
    "Continue by consulting: \n",
    "\n",
    "- [Determine the signal quality of your wearables](https://github.com/Aminsinichi/wearable-hrv/blob/master/docs/examples/group_pipeline/2.group_signal_quality.ipynb)"
   ]
  }
 ],
 "metadata": {
  "kernelspec": {
   "display_name": "Python 3 (ipykernel)",
   "language": "python",
   "name": "python3"
  },
  "language_info": {
   "codemirror_mode": {
    "name": "ipython",
    "version": 3
   },
   "file_extension": ".py",
   "mimetype": "text/x-python",
   "name": "python",
   "nbconvert_exporter": "python",
   "pygments_lexer": "ipython3",
   "version": "3.12.1"
  }
 },
 "nbformat": 4,
 "nbformat_minor": 5
}
