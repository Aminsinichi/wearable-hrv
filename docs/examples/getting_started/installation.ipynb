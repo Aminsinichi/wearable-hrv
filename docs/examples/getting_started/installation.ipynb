{
 "cells": [
  {
   "cell_type": "markdown",
   "id": "25154e81-d4de-4d3c-ad89-9204546f4d80",
   "metadata": {},
   "source": [
    "# Getting Started with wearablehrv: Installation Guide\n",
    "\n",
    "Welcome to the installation guide for `wearablehrv`, a Python package designed for validation of heart rate and heart rate variability (HRV) data from wearable devices. This notebook will walk you through the steps to get your environment set up and ready to use `wearablehrv`.\n",
    "\n",
    "Please also refer to:\n",
    "\n",
    "[![README.md](https://img.shields.io/badge/Read-README.md-blue)](https://github.com/Aminsinichi/wearable-hrv/blob/develop/README.md)\n",
    "\n",
    "## Prerequisites\n",
    "\n",
    "Before proceeding with the installation of `wearablehrv`, ensure you have the following prerequisites installed on your system:\n",
    "\n",
    "- Python 3.6 or later\n",
    "- Jupyter Notebook or JupyterLab\n",
    "\n",
    "For the best experience and compatibility, **it is highly recommended to use the Anaconda distribution**, which includes Python, Jupyter, and other useful scientific libraries in an easy-to-manage package.\n",
    "\n",
    "### Installing Anaconda\n",
    "\n",
    "1. Visit the [Anaconda Distribution page](https://www.anaconda.com/products/individual) and download the installer for your operating system.\n",
    "2. Run the installer and follow the on-screen instructions to install Anaconda.\n",
    "3. Once installed, launch Anaconda Navigator to manage your Python environments and packages easily.\n",
    "\n",
    "## Installing wearablehrv\n",
    "\n",
    "With your Python environment set up, you can now proceed to install `wearablehrv`. Open your Jupyter Notebook or JupyterLab and follow these steps:\n",
    "\n",
    "### Step 1: Create a New Notebook\n",
    "\n",
    "- In Anaconda Navigator, navigate to the \"Home\" tab, and ensure \"Jupyter Notebook\" or \"JupyterLab\" is selected.\n",
    "- Click on \"Launch\" to start Jupyter. Once it opens in your browser, create a new notebook by selecting \"Python 3\" from the \"New\" dropdown menu.\n",
    "\n",
    "### Step 2: Install the Package\n",
    "\n",
    "In a new cell in your notebook, type the following command to install `wearablehrv`:"
   ]
  },
  {
   "cell_type": "code",
   "execution_count": null,
   "id": "42e39044-ffce-4a9b-a56e-7125ab55a2c3",
   "metadata": {},
   "outputs": [],
   "source": [
    "! pip install wearablehrv"
   ]
  },
  {
   "cell_type": "markdown",
   "id": "9be2d15f-674b-4fa7-afe1-a2ed025f35ed",
   "metadata": {},
   "source": [
    "Press `Shift + Enter` to execute the cell. This command will download and install `wearablehrv` along with its dependencies.\n",
    "\n",
    "### Step 3: Verify Installation\n",
    "\n",
    "To ensure `wearablehrv` has been installed correctly, import it into your notebook:"
   ]
  },
  {
   "cell_type": "code",
   "execution_count": null,
   "id": "0f868ed4-4fb2-4c16-9211-e16ade88f924",
   "metadata": {},
   "outputs": [],
   "source": [
    "import wearablehrv\n",
    "print(\"wearablehrv has been successfully installed and imported.\")"
   ]
  },
  {
   "cell_type": "markdown",
   "id": "7c7487a1-ef47-439b-a104-fd995cd53590",
   "metadata": {},
   "source": [
    "Executing this cell should not produce any errors, confirming that `wearablehrv` is ready for use.\n",
    "\n",
    "## Next Steps\n",
    "\n",
    "Once you have successfully installed `wearablehrv`, You're now ready to move on to the next notebook examples. \n",
    "\n",
    "Continue by consulting:\n",
    "\n",
    "- [An overview of main functionalities](https://github.com/Aminsinichi/wearable-hrv/blob/master/docs/examples/getting_started/overview.ipynb)\n"
   ]
  }
 ],
 "metadata": {
  "kernelspec": {
   "display_name": "Python 3 (ipykernel)",
   "language": "python",
   "name": "python3"
  },
  "language_info": {
   "codemirror_mode": {
    "name": "ipython",
    "version": 3
   },
   "file_extension": ".py",
   "mimetype": "text/x-python",
   "name": "python",
   "nbconvert_exporter": "python",
   "pygments_lexer": "ipython3",
   "version": "3.12.1"
  }
 },
 "nbformat": 4,
 "nbformat_minor": 5
}
