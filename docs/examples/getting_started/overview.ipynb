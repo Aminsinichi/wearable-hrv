{
 "cells": [
  {
   "cell_type": "markdown",
   "id": "a8e4de38",
   "metadata": {},
   "source": [
    "# Overview\n",
    "\n",
    "`wearablehrv` is a Python package that comes in handy if you want to validate wearables and establish their accuracy in terms of heart rate (HR) and heart rate variability (HRV). `wearablehrv` is a complete and comprehensive pipeline that helps you go from your recorded raw data through all the necessary pre-processing steps, data analysis, and many visualization tools with graphical user interfaces.\n",
    "\n",
    "The package is divided into two broad ranges of functionalities:\n",
    "\n",
    "- **Individual Pipeline**: You use it for a single participant to process your raw data.\n",
    "- **Group Pipeline**: You use it when you have multiple participants, and you have processed them through the Individual Pipeline.\n",
    "\n",
    "Below, we offer a quick overview of the main functionalities."
   ]
  },
  {
   "cell_type": "markdown",
   "id": "2eafdaa7",
   "metadata": {},
   "source": [
    "<div style=\"border:1px solid; padding:10px; border-radius:5px; margin:10px 0;\">\n",
    "\n",
    "**Note**: Throughout the example notebooks and also in the code, we used the term \"<u>criterion</u>,\" which refers to the device that the rest of the devices are compared against. This is also referred to as \"reference system,\" \"ground truth,\" and \"gold standard\" in the literature. This is usually an electrocardiography (ECG) device.\n",
    "\n",
    "</div>"
   ]
  },
  {
   "cell_type": "markdown",
   "id": "4e9d0882",
   "metadata": {},
   "source": [
    "## Previous Steps\n",
    "\n",
    "If you have not done so, first take a look at the following notebooks:\n",
    "\n",
    "- [Installation guide for wearablehrv](https://github.com/Aminsinichi/wearable-hrv/blob/master/docs/examples/getting_started/installation.ipynb)"
   ]
  },
  {
   "cell_type": "markdown",
   "id": "f22488f0",
   "metadata": {},
   "source": [
    "\n",
    "\n",
    "## Data Collection\n",
    "\n",
    "When one wants to establish the validity of a wearable, let's say a smartwatch, that records heart rate and heart rate variability, they should use a \"ground truth\" device. This is usually a gold-standard electrocardiography (ECG) that measures HR and HRV accurately.\n",
    "\n",
    "**Note**: We call this gold-standard a \"criterion\" device in our pipeline.\n",
    "\n",
    "Then, a participant wears this ECG, together with the smartwatch, and starts recording data simultaneously. It is beneficial if we test the subject in various conditions, so we get a better sense of how well the device works.\n",
    "\n",
    "Usually, validating multiple devices at once is a cumbersome task, requiring a lot of data preparation, processing, different alignments, etc. **A powerful feature in `wearablehrv` is that it does not matter how many devices in how many conditions you want to test a participant!** You just record your data, and the pipeline walks you through this data to the final decision on whether a device is accurate compared to the ground truth or not.\n",
    "\n",
    "This is how your experiment may look like: a participant wearing a few wearables named Kyto, Heartmath, Empatica, Rhythm, together with a gold-standard ECG (VU-AMS), with electrodes on the chest, and will perform different tasks in different conditions (e.g., sitting for 5 minutes, standing up for 3 minutes, walking for 3 minutes, and biking for 3 minutes, while having all the devices on):\n",
    "\n",
    "![Sensor Placement](https://github.com/Aminsinichi/wearable-hrv/blob/master/docs/img/Sensor%20Placement.png?raw=true)"
   ]
  },
  {
   "cell_type": "markdown",
   "id": "23be0e80",
   "metadata": {},
   "source": [
    "## 1. Individual Pipeline\n",
    "### 1.1 Prepare Data\n",
    "\n",
    "It is easy to read your data and experimental events with the pipeline from all your devices in one go."
   ]
  },
  {
   "cell_type": "code",
   "execution_count": null,
   "id": "b47f75cf",
   "metadata": {},
   "outputs": [],
   "source": [
    "# Importing Module\n",
    "import wearablehrv\n",
    "\n",
    "# downloading some example data\n",
    "path = wearablehrv.data.download_data_and_get_path()\n",
    "# Define the participant ID \n",
    "pp = \"test\" \n",
    "# Define your experimental conditions, for instance, sitting, standing, walking, and biking\n",
    "conditions = ['sitting', 'standing', 'walking', 'biking'] \n",
    "\n",
    "# Define the devices you want to validate against the criterion. \n",
    "devices = [\"kyto\", \"heartmath\", \"rhythm\", \"empatica\", \"vu\"] \n",
    "\n",
    "# Redefine the name of the criterion device\n",
    "criterion = \"vu\" \n",
    "\n",
    "# Read data, experimental events, and segment the continuous data into smaller chunks\n",
    "data = wearablehrv.individual.import_data (path, pp, devices)\n",
    "events = wearablehrv.individual.define_events (path, pp, conditions, already_saved= True, save_as_csv= False)\n",
    "data_chopped = wearablehrv.individual.chop_data (data, conditions, events, devices)"
   ]
  },
  {
   "cell_type": "markdown",
   "id": "5146f317",
   "metadata": {},
   "source": [
    "### 1.2 Preprocess Data\n",
    "\n",
    "You have various methods to properly preprocess your raw data.\n",
    "\n",
    "**Correct the Lag, Trim Data**\n",
    "\n",
    "With a user-friendly GUI, correct the lag between devices, align data by cropping the beginning and the end of each of your devices, and have full control over each device and condition."
   ]
  },
  {
   "cell_type": "code",
   "execution_count": null,
   "id": "e5c447fd",
   "metadata": {},
   "outputs": [],
   "source": [
    "wearablehrv.individual.visual_inspection (data_chopped, devices, conditions,criterion)"
   ]
  },
  {
   "cell_type": "markdown",
   "id": "dc7c2a31",
   "metadata": {},
   "source": [
    "**Detect Outliers and Ectopic Beats**\n",
    "\n",
    "Easily perform different types of detection methods for each device and in each condition. This is an important advantage that allows you to easily run this within a condition, for a specific device, to make the preprocessing independent."
   ]
  },
  {
   "cell_type": "code",
   "execution_count": null,
   "id": "d0af1335",
   "metadata": {},
   "outputs": [],
   "source": [
    "data_pp, data_chopped = wearablehrv.individual.pre_processing (data_chopped, devices, conditions, method=\"karlsson\", custom_removing_rule = 0.25, low_rri=300, high_rri=2000)"
   ]
  },
  {
   "cell_type": "markdown",
   "id": "3362dadc",
   "metadata": {},
   "source": [
    "**Diagnostic Plots**\n",
    "\n",
    "Check how well you performed the preprocessing by comparing the detected outliers in the criterion and your selected device."
   ]
  },
  {
   "cell_type": "code",
   "execution_count": null,
   "id": "bac90e55",
   "metadata": {},
   "outputs": [],
   "source": [
    "wearablehrv.individual.ibi_comparison_plot (data_chopped, data_pp, devices, conditions, criterion, width=20 , height=10)"
   ]
  },
  {
   "cell_type": "markdown",
   "id": "4cea8a32",
   "metadata": {},
   "source": [
    "### 1.3 Analyze and Plot\n",
    "\n",
    "Easily calculate all relevant outcome variables (e.g., RMSSD, mean HR, frequency domain measures) in all your devices and conditions, and use various plotting options."
   ]
  },
  {
   "cell_type": "code",
   "execution_count": null,
   "id": "4d6d9385",
   "metadata": {},
   "outputs": [],
   "source": [
    "time_domain_features, frequency_domain_features = wearablehrv.individual.data_analysis (data_pp, devices, conditions)"
   ]
  },
  {
   "cell_type": "code",
   "execution_count": null,
   "id": "d0ddc847",
   "metadata": {},
   "outputs": [],
   "source": [
    "wearablehrv.individual.bar_plot (time_domain_features, frequency_domain_features, devices, conditions, width=20, height=25, bar_width = 0.15)"
   ]
  },
  {
   "cell_type": "markdown",
   "id": "2cfb4f8d",
   "metadata": {},
   "source": [
    "## 2. Group Pipeline\n",
    "### 2.1 Prepare Data\n",
    "\n",
    "Easily load all processed data that you have put through the Individual Pipeline."
   ]
  },
  {
   "cell_type": "code",
   "execution_count": null,
   "id": "678e8041",
   "metadata": {},
   "outputs": [],
   "source": [
    "wearablehrv.data.clear_wearablehrv_cache() \n",
    "path = wearablehrv.data.download_data_and_get_path([\"P01.csv\", \"P02.csv\", \"P03.csv\", \"P04.csv\", \"P05.csv\", \"P06.csv\", \"P07.csv\", \"P08.csv\", \"P09.csv\", \"P10.csv\"])\n",
    "conditions = ['sitting', 'standing', 'walking', 'biking'] \n",
    "devices = [\"kyto\", \"heartmath\", \"rhythm\", \"empatica\", \"vu\"] \n",
    "criterion = \"vu\" \n",
    "features = [\"rmssd\", 'mean_hr', 'nibi_after_cropping', 'artefact'] \n",
    "data, file_names = wearablehrv.group.import_data (path, conditions, devices, features) # Select the features you are interested in\n",
    "data = wearablehrv.group.nan_handling (data, devices, features, conditions) "
   ]
  },
  {
   "cell_type": "markdown",
   "id": "900ec74a",
   "metadata": {},
   "source": [
    "### 2.2 Signal Quality\n",
    "\n",
    "A powerful tool to assess and report signal quality in all your wearables, in all conditions. You just need to define a few thresholds."
   ]
  },
  {
   "cell_type": "code",
   "execution_count": null,
   "id": "17c613b9",
   "metadata": {},
   "outputs": [],
   "source": [
    "data, features, summary_df, quality_df = wearablehrv.group.signal_quality (data, path, conditions, devices, features, criterion,  file_names,  ibi_threshold = 0.30, artefact_threshold = 0.30)"
   ]
  },
  {
   "cell_type": "code",
   "execution_count": null,
   "id": "8436a163",
   "metadata": {},
   "outputs": [],
   "source": [
    "wearablehrv.group.signal_quality_plot2 (summary_df, condition_selection=False, condition=None)"
   ]
  },
  {
   "cell_type": "markdown",
   "id": "a62c0a76",
   "metadata": {},
   "source": [
    "### 2.3 Statistical Analysis\n",
    "\n",
    "Perform four of the most common statistical methods for validation, and create plots, again, for all your devices, in all conditions, just by running a few functions."
   ]
  },
  {
   "cell_type": "markdown",
   "id": "ef2d4cc7",
   "metadata": {},
   "source": [
    "**Mean Absolute Percentage Error**"
   ]
  },
  {
   "cell_type": "code",
   "execution_count": null,
   "id": "f174c7bd",
   "metadata": {},
   "outputs": [],
   "source": [
    "mape_data = wearablehrv.group.mape_analysis (data, criterion, devices, conditions, features)\n",
    "wearablehrv.group.mape_plot (mape_data, features, conditions, devices)"
   ]
  },
  {
   "cell_type": "markdown",
   "id": "f038d6ad",
   "metadata": {},
   "source": [
    "**Regression Analysis**"
   ]
  },
  {
   "cell_type": "code",
   "execution_count": null,
   "id": "134e645a",
   "metadata": {},
   "outputs": [],
   "source": [
    "regression_data = wearablehrv.group.regression_analysis (data, criterion, conditions, devices, features, path)\n",
    "wearablehrv.group.regression_plot(regression_data, data, criterion, conditions, devices, features, marker_color='red', width=10, height_per_condition=4)"
   ]
  },
  {
   "cell_type": "markdown",
   "id": "267388de",
   "metadata": {},
   "source": [
    "**Intraclass Correlation Coefficient**"
   ]
  },
  {
   "cell_type": "code",
   "execution_count": null,
   "id": "4b141736",
   "metadata": {},
   "outputs": [],
   "source": [
    "icc_data = wearablehrv.group.icc_analysis (data, criterion, devices, conditions, features, path, save_as_csv=False)\n",
    "wearablehrv.group.icc_plot (icc_data, conditions, devices, features)\n"
   ]
  },
  {
   "cell_type": "markdown",
   "id": "677f262c",
   "metadata": {},
   "source": [
    "**Bland-Altman Analysis**"
   ]
  },
  {
   "cell_type": "code",
   "execution_count": null,
   "id": "239ccf1a",
   "metadata": {},
   "outputs": [],
   "source": [
    "blandaltman_data = wearablehrv.group.blandaltman_analysis (data, criterion, devices, conditions, features, path, save_as_csv=False)\n",
    "wearablehrv.group.blandaltman_plot (data, criterion, conditions, devices, features)"
   ]
  },
  {
   "cell_type": "markdown",
   "id": "61aa7fbe",
   "metadata": {},
   "source": [
    "### 2.4 Descriptive Plots\n",
    "\n",
    "There are many options for you to meaningfully plot your group data and make an informed decision on the accuracy of your devices."
   ]
  },
  {
   "cell_type": "code",
   "execution_count": null,
   "id": "c9e69414",
   "metadata": {},
   "outputs": [],
   "source": [
    "wearablehrv.group.violin_plot (data, conditions, features, devices)"
   ]
  },
  {
   "cell_type": "markdown",
   "id": "b797c6b2",
   "metadata": {},
   "source": [
    "That's it! Now that you have an overview of the main functions, you can go through the example notebooks and explore many more options.\n",
    "\n",
    "## Next Steps\n",
    "\n",
    "You're now ready to move on to the next notebook examples. \n",
    "\n",
    "Continue by consulting: \n",
    "\n",
    "- [How to prepare your data for the individual pipeline](https://github.com/Aminsinichi/wearable-hrv/blob/master/docs/examples/getting_started/1.individual_data_preparation.ipynb)"
   ]
  }
 ],
 "metadata": {
  "kernelspec": {
   "display_name": ".venv",
   "language": "python",
   "name": "python3"
  },
  "language_info": {
   "codemirror_mode": {
    "name": "ipython",
    "version": 3
   },
   "file_extension": ".py",
   "mimetype": "text/x-python",
   "name": "python",
   "nbconvert_exporter": "python",
   "pygments_lexer": "ipython3",
   "version": "3.12.1"
  }
 },
 "nbformat": 4,
 "nbformat_minor": 5
}
